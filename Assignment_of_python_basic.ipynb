{
  "nbformat": 4,
  "nbformat_minor": 0,
  "metadata": {
    "colab": {
      "provenance": []
    },
    "kernelspec": {
      "name": "python3",
      "display_name": "Python 3"
    },
    "language_info": {
      "name": "python"
    }
  },
  "cells": [
    {
      "cell_type": "markdown",
      "source": [
        "# Answers for practical questions"
      ],
      "metadata": {
        "id": "JUxdg8x9SIgT"
      }
    },
    {
      "cell_type": "markdown",
      "source": [
        "1.WRITE A PYTHON PROGRAM TO PRINT \"HELLO WORLD\""
      ],
      "metadata": {
        "id": "NE0cqcPOSVRb"
      }
    },
    {
      "cell_type": "code",
      "execution_count": 1,
      "metadata": {
        "colab": {
          "base_uri": "https://localhost:8080/"
        },
        "id": "6ofy-JLVSAbT",
        "outputId": "00236aa2-43b3-41ab-ed0c-22d82b0b8984"
      },
      "outputs": [
        {
          "output_type": "stream",
          "name": "stdout",
          "text": [
            "HELLO WORLD\n"
          ]
        }
      ],
      "source": [
        "print(\"HELLO WORLD\")"
      ]
    },
    {
      "cell_type": "markdown",
      "source": [
        "# 2.Write a Python program that displays your name and age"
      ],
      "metadata": {
        "id": "Cu8nAmayVq-Q"
      }
    },
    {
      "cell_type": "code",
      "source": [
        "name=input(\"Enter your name\")\n",
        "age=int(input(\"Enter your age\"))\n",
        "print(\"My name is\",name.upper())\n",
        "print(\"I am\",age,\"years old\")"
      ],
      "metadata": {
        "colab": {
          "base_uri": "https://localhost:8080/"
        },
        "id": "lgljR6ZlV6pp",
        "outputId": "c3ad0676-c9a8-4723-c8c7-c6787e0ec07a"
      },
      "execution_count": 4,
      "outputs": [
        {
          "output_type": "stream",
          "name": "stdout",
          "text": [
            "Enter your nameanirban ghosh\n",
            "Enter your age35\n",
            "My name is ANIRBAN GHOSH\n",
            "I am 35 years old\n"
          ]
        }
      ]
    },
    {
      "cell_type": "markdown",
      "source": [
        "3.Write code to print all the pre-defined keywords in Python using the keyword library"
      ],
      "metadata": {
        "id": "qosaPmODYoOD"
      }
    },
    {
      "cell_type": "code",
      "source": [
        "import keyword\n",
        "print(\"Python key words are\", keyword.kwlist)"
      ],
      "metadata": {
        "colab": {
          "base_uri": "https://localhost:8080/"
        },
        "id": "X-c7WQyxYscD",
        "outputId": "de53b480-6f74-4ba4-f911-1b07d94e9c9d"
      },
      "execution_count": 5,
      "outputs": [
        {
          "output_type": "stream",
          "name": "stdout",
          "text": [
            "Python key words are ['False', 'None', 'True', 'and', 'as', 'assert', 'async', 'await', 'break', 'class', 'continue', 'def', 'del', 'elif', 'else', 'except', 'finally', 'for', 'from', 'global', 'if', 'import', 'in', 'is', 'lambda', 'nonlocal', 'not', 'or', 'pass', 'raise', 'return', 'try', 'while', 'with', 'yield']\n"
          ]
        }
      ]
    },
    {
      "cell_type": "markdown",
      "source": [
        "4.Write a program that checks if a given word is a Python keyword."
      ],
      "metadata": {
        "id": "oL_GxoZCbPwC"
      }
    },
    {
      "cell_type": "code",
      "source": [
        "x=input(\"Enter your keyword \")\n",
        "if x in keyword.kwlist:\n",
        "  print(x,\" is a keyword\" )\n",
        "else:\n",
        "  print(x,\"is not a keyword\")"
      ],
      "metadata": {
        "colab": {
          "base_uri": "https://localhost:8080/"
        },
        "id": "wXZW8b97bUeV",
        "outputId": "8606d17f-7629-436b-a933-de8b09370155"
      },
      "execution_count": 8,
      "outputs": [
        {
          "output_type": "stream",
          "name": "stdout",
          "text": [
            "Enter your keyword run\n",
            "run is not a keyword\n"
          ]
        }
      ]
    },
    {
      "cell_type": "markdown",
      "source": [
        "5. Create a list and tuple in Python, and demonstrate how attempting to change an element works differently\n",
        "for each"
      ],
      "metadata": {
        "id": "xE8EyJZ3nqk6"
      }
    },
    {
      "cell_type": "code",
      "source": [
        "c=[2,3,4,\"hi\",\"hello\",45,92]"
      ],
      "metadata": {
        "id": "Ip4Y0G47nsrY"
      },
      "execution_count": 24,
      "outputs": []
    },
    {
      "cell_type": "code",
      "source": [
        "c[4]=67"
      ],
      "metadata": {
        "id": "aGxFRA7JxJAe"
      },
      "execution_count": 25,
      "outputs": []
    },
    {
      "cell_type": "code",
      "source": [
        "c"
      ],
      "metadata": {
        "colab": {
          "base_uri": "https://localhost:8080/"
        },
        "id": "GgtxyOXMxWqq",
        "outputId": "05a125e4-2d8e-4a1b-f5a1-8b947e237fee"
      },
      "execution_count": 26,
      "outputs": [
        {
          "output_type": "execute_result",
          "data": {
            "text/plain": [
              "[2, 3, 4, 'hi', 67, 45, 92]"
            ]
          },
          "metadata": {},
          "execution_count": 26
        }
      ]
    },
    {
      "cell_type": "code",
      "source": [
        "d=(2,3,5,7)"
      ],
      "metadata": {
        "id": "d_TNCkxQxcR1"
      },
      "execution_count": null,
      "outputs": []
    },
    {
      "cell_type": "markdown",
      "source": [
        "As a tuple is immutable its element can not be changed,how ever we can change the element of tuple after converting into a list.e.g..\n"
      ],
      "metadata": {
        "id": "WVLbKPNXykY8"
      }
    },
    {
      "cell_type": "code",
      "source": [
        "d=(2,3,5,7)\n",
        "e=list(d)\n",
        "print(e)\n"
      ],
      "metadata": {
        "colab": {
          "base_uri": "https://localhost:8080/"
        },
        "id": "V8LShr_ozTQi",
        "outputId": "b495da92-eebc-4082-f46f-1b894abc003d"
      },
      "execution_count": 28,
      "outputs": [
        {
          "output_type": "stream",
          "name": "stdout",
          "text": [
            "[2, 3, 5, 7]\n"
          ]
        }
      ]
    },
    {
      "cell_type": "markdown",
      "source": [
        "7.Write a program that performs basic arithmetic operations on two user-input numbers."
      ],
      "metadata": {
        "id": "meIXBZdK6xcN"
      }
    },
    {
      "cell_type": "code",
      "source": [
        "m = int(input(\"Enter choice 1 \"))\n",
        "n = int(input(\"Enter choice 2 \"))\n",
        "print(f\"The Addition of {m} and {n} is {m+n}\")\n",
        "print(f\"The Sabtraction of {m} and {n} is {m-n}\")\n",
        "print(f\"The Multiplication of {m} and {m} is {m*n}\")\n",
        "print(f\"The Division of {m} and {n} is {m/n}\")\n",
        "print(f\"{m} to the power {n} is {m**n}\")"
      ],
      "metadata": {
        "colab": {
          "base_uri": "https://localhost:8080/"
        },
        "id": "YnAMnFJm6w5y",
        "outputId": "962d90ac-4630-4be4-c056-b9d7af82a6eb"
      },
      "execution_count": 40,
      "outputs": [
        {
          "output_type": "stream",
          "name": "stdout",
          "text": [
            "Enter choice 1 8\n",
            "Enter choice 2 9\n",
            "The Addition of 8 and 9 is 17\n",
            "The Sabtraction of 8 and 9 is -1\n",
            "The Multiplication of 8 and 8 is 72\n",
            "The Division of 8 and 9 is 0.8888888888888888\n",
            "8 to the power 9 is 134217728\n"
          ]
        }
      ]
    },
    {
      "cell_type": "markdown",
      "source": [
        "9. Write a Python program to convert user input from string to integer, float, and boolean types"
      ],
      "metadata": {
        "id": "IP7rBtv5BvcP"
      }
    },
    {
      "cell_type": "markdown",
      "source": [],
      "metadata": {
        "id": "fxjd7YHuBoKZ"
      }
    },
    {
      "cell_type": "code",
      "source": [
        "K = input(\"Enter a value: \")\n",
        "try:\n",
        "  int_K = int(K)\n",
        "  print(f\"Converted to integer: {int_K}\")\n",
        "except ValueError:\n",
        "  print(f\"Could not convert '{K}' to an integer.\")\n",
        "try:\n",
        "  int_K = int(K)\n",
        "  print(f\"Converted to integer: {int_K}\")\n",
        "except ValueError:\n",
        "  print(f\"Could not convert '{K}' to an integer.\")\n",
        "try:\n",
        "  float_K = float(K)\n",
        "  print(f\"Converted to float: {float_K}\")\n",
        "except ValueError:\n",
        "  print(f\"Could not convert '{K}' to a float.\")\n",
        "\n",
        "bool_K = bool(K)\n",
        "print(f\"Converted to boolean: {bool_K}\")"
      ],
      "metadata": {
        "id": "FH5aNFEFNOqh"
      },
      "execution_count": null,
      "outputs": []
    },
    {
      "cell_type": "markdown",
      "source": [
        "10. Write code to demonstrate type casting with list elements."
      ],
      "metadata": {
        "id": "0B8gFX4KNRN4"
      }
    },
    {
      "cell_type": "code",
      "source": [
        "x=['2','55','5','7']\n",
        "z=[int(x) for x in x]\n",
        "print(z)"
      ],
      "metadata": {
        "colab": {
          "base_uri": "https://localhost:8080/"
        },
        "id": "p-QZ6zDbNQvz",
        "outputId": "3b11c008-fd9e-4752-9d58-6767256f23ff"
      },
      "execution_count": 49,
      "outputs": [
        {
          "output_type": "stream",
          "name": "stdout",
          "text": [
            "[2, 55, 5, 7]\n"
          ]
        }
      ]
    },
    {
      "cell_type": "code",
      "source": [
        "x=['2','55','5','7']\n",
        "z=[bool(x) for x in x]\n",
        "print(z)"
      ],
      "metadata": {
        "colab": {
          "base_uri": "https://localhost:8080/"
        },
        "id": "JKK9jt6zPlPo",
        "outputId": "0fe0047a-d8ab-430e-aa3d-395221f4fa14"
      },
      "execution_count": 50,
      "outputs": [
        {
          "output_type": "stream",
          "name": "stdout",
          "text": [
            "[True, True, True, True]\n"
          ]
        }
      ]
    },
    {
      "cell_type": "markdown",
      "source": [
        "11. Write a program that checks if a number is positive, negative, or zero."
      ],
      "metadata": {
        "id": "oI4e0RQ5RPd7"
      }
    },
    {
      "cell_type": "code",
      "source": [
        "x=input(\"enter the number\")\n",
        "a=float(x)\n",
        "if a> 0:\n",
        "  print(f\"{a} is positive.\")\n",
        "elif num < 0:\n",
        "  print(f\"{a} is negative.\")\n",
        "else:\n",
        "  print(f\"{a} is zero.\")"
      ],
      "metadata": {
        "colab": {
          "base_uri": "https://localhost:8080/"
        },
        "id": "AkyA1fMyROZG",
        "outputId": "0e018fc8-1e21-4971-8ea6-2af01acd2c05"
      },
      "execution_count": 51,
      "outputs": [
        {
          "output_type": "stream",
          "name": "stdout",
          "text": [
            "enter the number8.23\n",
            "8.23 is positive.\n"
          ]
        }
      ]
    },
    {
      "cell_type": "markdown",
      "source": [
        "12.Write a for loop to print numbers from 1 to 10."
      ],
      "metadata": {
        "id": "Zu7IcBbARmo-"
      }
    },
    {
      "cell_type": "code",
      "source": [
        "for i in range(1,11):\n",
        "  print(i)"
      ],
      "metadata": {
        "colab": {
          "base_uri": "https://localhost:8080/"
        },
        "id": "Lry5PKRrRsct",
        "outputId": "9d0b6bcd-3162-4f81-93eb-a6a1739668c6"
      },
      "execution_count": 52,
      "outputs": [
        {
          "output_type": "stream",
          "name": "stdout",
          "text": [
            "1\n",
            "2\n",
            "3\n",
            "4\n",
            "5\n",
            "6\n",
            "7\n",
            "8\n",
            "9\n",
            "10\n"
          ]
        }
      ]
    },
    {
      "cell_type": "markdown",
      "source": [
        "13.Write a Python program to find the sum of all even numbers between 1 and 50"
      ],
      "metadata": {
        "id": "0dKNBQSrToMu"
      }
    },
    {
      "cell_type": "code",
      "source": [
        "sum=0\n",
        "for i in range(2,51,2):\n",
        "  sum=sum+i\n",
        "print(sum)\n",
        "#"
      ],
      "metadata": {
        "colab": {
          "base_uri": "https://localhost:8080/"
        },
        "id": "8BG0dRpyTM61",
        "outputId": "e76c884a-a6b4-49f1-a427-f6687939aa34"
      },
      "execution_count": 53,
      "outputs": [
        {
          "output_type": "stream",
          "name": "stdout",
          "text": [
            "650\n"
          ]
        }
      ]
    },
    {
      "cell_type": "code",
      "source": [
        "##14. Write a program to reverse a string using a while loop"
      ],
      "metadata": {
        "id": "uDDw5z0LTwga"
      },
      "execution_count": null,
      "outputs": []
    },
    {
      "cell_type": "code",
      "source": [
        "x= input(\"Enter a string: \")\n",
        "y = \"\"\n",
        "z = len(x)-1\n",
        "while z >= 0:\n",
        "    y += x[z]\n",
        "    z -= 1\n",
        "print(\"Reverse string\",y)"
      ],
      "metadata": {
        "colab": {
          "base_uri": "https://localhost:8080/"
        },
        "id": "dF7yO4T-UQON",
        "outputId": "d9d2a976-3d7c-4ac3-f108-7a5e96b592eb"
      },
      "execution_count": 55,
      "outputs": [
        {
          "output_type": "stream",
          "name": "stdout",
          "text": [
            "Enter a string: mango\n",
            "Reverse string ognam\n"
          ]
        }
      ]
    },
    {
      "cell_type": "markdown",
      "source": [
        "15. Write a Python program to calculate the factorial of a number provided by the user using a while loop"
      ],
      "metadata": {
        "id": "PCSV27biVn1T"
      }
    },
    {
      "cell_type": "code",
      "source": [
        "g = int(input(\"Enter an integer: \"))\n",
        "if g < 0:\n",
        "    print(\"Factorial is not defined for negative numbers.\")\n",
        "else:\n",
        "    f = 1\n",
        "    i = 1\n",
        "    while i <= g:\n",
        "        f *= i\n",
        "        i += 1\n",
        "\n",
        "    print(f\"The factorial of {g} is {f}\")"
      ],
      "metadata": {
        "colab": {
          "base_uri": "https://localhost:8080/"
        },
        "id": "4o0HwH3xVogK",
        "outputId": "59dad832-f962-4b39-ff02-fb2adccfd017"
      },
      "execution_count": 57,
      "outputs": [
        {
          "output_type": "stream",
          "name": "stdout",
          "text": [
            "Enter an integer: 6\n",
            "The factorial of 6 is 720\n"
          ]
        }
      ]
    },
    {
      "cell_type": "markdown",
      "source": [],
      "metadata": {
        "id": "_sQJGQFqVnij"
      }
    },
    {
      "cell_type": "markdown",
      "source": [
        "1. What is Python, and why is it popular?\n",
        "Ans- Python is a high level ,interpreted general-purpose programming language known for its simplicity, readability, and versatility.\n",
        "\n",
        "\n",
        "Answer::It is popular because of it is easy to learn and write, it has clear english like syntax, it is open source and free, besides it has extensive libraries, also it runs on any operating system.\n",
        "It has vast area of use like data science, web development,machine learning,automation ,so it easy mopre popilar than any other language,.\n"
      ],
      "metadata": {
        "id": "5nFR7HW0WW9v"
      }
    },
    {
      "cell_type": "markdown",
      "source": [
        "2. What is an interpreter in Python?\n",
        "\n",
        "Answer::The interpreter in python convert python code into machine- redable instructions at the time of run while checking the error line by line, common interpreters arte cpython, pypy etc\n"
      ],
      "metadata": {
        "id": "67PIqk6MYRfb"
      }
    },
    {
      "cell_type": "markdown",
      "source": [
        "3.What are pre-defined keywords in Python?\n",
        "\n",
        "Answer::The predefined keyword are already defined by python which are can not be used as variable name, those are'False',\n",
        " 'None',\n",
        " 'True',\n",
        " 'and',\n",
        " 'as',\n",
        " 'assert',\n",
        " 'async',\n",
        " 'await',\n",
        " 'break',\n",
        " 'class',\n",
        " 'continue',\n",
        " 'def',\n",
        " 'del',\n",
        " 'elif',\n",
        " 'else',\n",
        " 'except',\n",
        " 'finally',\n",
        " 'for',\n",
        " 'from',\n",
        " 'global',\n",
        " 'if',\n",
        " 'import',\n",
        " 'in',\n",
        " 'is',\n",
        " 'lambda',\n",
        " 'nonlocal',\n",
        " 'not',\n",
        " 'or',\n",
        " 'pass',\n",
        " 'raise',\n",
        " 'return',\n",
        " 'try',\n",
        " 'while',\n",
        " 'with',\n",
        " 'yield'"
      ],
      "metadata": {
        "id": "DAb_CgIsZbcL"
      }
    },
    {
      "cell_type": "markdown",
      "source": [
        " 4.Can keywords be used as variable names?\n",
        "\n",
        " Ans-- We can not use the keywords as variable name."
      ],
      "metadata": {
        "id": "VfGIiMwcbU_l"
      }
    },
    {
      "cell_type": "markdown",
      "source": [
        " 5.What is mutability in Python?\n",
        "\n",
        " Ans---The mutability in python means which can not be changed once it is defined or it can be changed as per requirement,Mutable objects can be changed after they are created. Examples include lists, dictionaries, and sets.\n",
        "Immutable objects cannot be changed after they are created. Examples include strings, tuples, numbers (integers, floats, complex), and booleans."
      ],
      "metadata": {
        "id": "VqOP1qUJboT2"
      }
    },
    {
      "cell_type": "markdown",
      "source": [
        " 6.Why are lists mutable, but tuples are immutable?\n",
        "\n",
        "\n",
        "Lists are mutable: This means you can change, add, or remove elements from a list after it has been created.\n",
        "Tuples are immutable: This means once a tuple is created, you cannot change its elements ensuring their contents remain constant and reliable.\n",
        "\n",
        "The choice between lists and tuples depends on whether you need flexibility (lists) or stability (tuples) in your data structure\n"
      ],
      "metadata": {
        "id": "oJS3VAVkckZW"
      }
    },
    {
      "cell_type": "markdown",
      "source": [],
      "metadata": {
        "id": "dyXqryjnZLjY"
      }
    },
    {
      "cell_type": "markdown",
      "source": [
        "7..What is the difference between “==” and “is” operators in Python?\n",
        "\n",
        "Ans--\"==\" this actaully define eqality as a kind of condition, but \"=\" it is used to assign a value to some veriables."
      ],
      "metadata": {
        "id": "73M6I3R6drmN"
      }
    },
    {
      "cell_type": "markdown",
      "source": [
        " 8.What are logical operators in Python?\n",
        "\n",
        " Ans--Logical Operators in Python\n",
        "Logical operators are used to combine conditional statements. In Python, the logical operators are\n",
        "**and** which Returns True if both statements are true,**or** which Returns True if at least one of the statements is true\n",
        "**not** which returns the opposite of the statement i.e True if the statement is false, and False if the statement is true."
      ],
      "metadata": {
        "id": "nep5ezi1eHtu"
      }
    },
    {
      "cell_type": "markdown",
      "source": [
        "9. What is type casting in Python?\n",
        "\n",
        "Ans- Type casting in python means converting the data type from one data type to another data type, like interger to float, integer to string etc."
      ],
      "metadata": {
        "id": "WRdrLkqHfT0X"
      }
    },
    {
      "cell_type": "markdown",
      "source": [
        " 10.What is the difference between implicit and explicit type casting?\n",
        "\n",
        "Type casting (or type conversion) is the process of changing the data type of a value. There are two main types of type casting in Python:\n",
        "\n",
        "Implicit Type Casting (Coercion): This is done automatically by the Python interpreter. Python converts a data type into another data type without the user's intervention. This usually happens when you perform operations involving different data types, and Python promotes one type to another to avoid data loss.\n",
        "\n",
        "Explicit Type Casting: This is done manually by the user using built-in functions or constructors of the target data type. The user explicitly converts a value from one type to another. This is also known as type conversion"
      ],
      "metadata": {
        "id": "FzmXJA6cf785"
      }
    },
    {
      "cell_type": "markdown",
      "source": [
        " 11.What is the purpose of conditional statements in Python?\n",
        "\n",
        " Ans--Conditional statements in Python are used to make decisions in your code. They allow you to execute different blocks of code based on whether a specific condition or set of conditions is true or false.\n",
        "\n",
        "The main conditional statements are:\n",
        "\n",
        "if: Executes a block of code if a condition is true.\n",
        "elif (else if): Checks another condition if the previous if or elif conditions were false.\n",
        "else: Executes a block of code if none of the previous if or elif conditions were true.\n",
        "They are essential for controlling the flow of your program and making it respond differently to various situations."
      ],
      "metadata": {
        "id": "L8LDD3n3hy8c"
      }
    },
    {
      "cell_type": "markdown",
      "source": [
        " 12.How does the elif statement work?\n",
        "\n",
        " Ans--The elif statement in Python is short for \"else if\". It's used after an if statement (and potentially other elif statements) to check an additional condition only if the preceding if and elif conditions were false.\n",
        "\n",
        "**Here's how it works**:\n",
        "\n",
        "The if condition is evaluated. If it's true, the code block under the if is executed, and the rest of the elif and else blocks are skipped.\n",
        "If the if condition is false, the first elif condition is evaluated. If it's true, the code block under that elif is executed, and the rest of the elif and else blocks are skipped.\n",
        "This process continues for any subsequent elif statements.\n",
        "If all the if and elif conditions are false, the code block under the else statement (if present) is executed."
      ],
      "metadata": {
        "id": "8v61YD-9iIAL"
      }
    },
    {
      "cell_type": "markdown",
      "source": [],
      "metadata": {
        "id": "y56uwwTmio0W"
      }
    },
    {
      "cell_type": "markdown",
      "source": [
        " 13.What is the difference between for and while loops?\n",
        "\n",
        " Ans--In Python, for and while loops are both used for iteration, but they differ in their purpose and usage:\n",
        "\n",
        "1. for Loop\n",
        "**Purpose**: Used to iterate over a sequence (like a list, tuple, string, or range) or any iterable object.\n",
        "**When to Use**: When the number of iterations is known or when iterating over a collection.\n",
        "\n",
        "2. while Loop\n",
        "**Purpose**: Repeats a block of code as long as a specified condition is True.\n",
        "**When to Use**: When the number of iterations is unknown and depends on a condition."
      ],
      "metadata": {
        "id": "zm0sjpscixM8"
      }
    },
    {
      "cell_type": "markdown",
      "source": [
        " 14.Describe a scenario where a while loop is more suitable than a for loop.?\n",
        "\n",
        " Ans--A while loop is particularly useful in scenarios where the number of iterations is not predetermined and depends on a condition being met during runtime. Unlike a for loop, which is ideal for iterating over a fixed range or sequence, a while loop provides flexibility for dynamic conditions.\n",
        "\n",
        "Example Scenario: Reading a File Until End-of-File (EOF)\n",
        "\n",
        "Consider a situation where you are reading a file line by line, and you do not know in advance how many lines the file contains. A while loop is more suitable here because it continues to execute as long as there is data to read.\n",
        "Another common use case is waiting for user input or a specific event. For instance, you might want to keep prompting the user until they enter a valid response."
      ],
      "metadata": {
        "id": "Ckr9cHpwjlOi"
      }
    }
  ]
}